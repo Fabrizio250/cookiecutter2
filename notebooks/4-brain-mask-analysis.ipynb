{
 "cells": [
  {
   "cell_type": "markdown",
   "metadata": {},
   "source": [
    "# Brain Masks Analysis"
   ]
  },
  {
   "cell_type": "markdown",
   "metadata": {},
   "source": [
    "Brain Masks Analysis"
   ]
  },
  {
   "cell_type": "code",
   "execution_count": 1,
   "metadata": {
    "collapsed": true
   },
   "outputs": [
    {
     "ename": "NameError",
     "evalue": "name 'Literal' is not defined",
     "output_type": "error",
     "traceback": [
      "\u001b[0;31m---------------------------------------------------------------------------\u001b[0m",
      "\u001b[0;31mNameError\u001b[0m                                 Traceback (most recent call last)",
      "\u001b[0;32m/var/folders/r5/7br76ph52bd61jg9yfqjy_8c0000gn/T/ipykernel_74831/2729496912.py\u001b[0m in \u001b[0;36m<cell line: 10>\u001b[0;34m()\u001b[0m\n\u001b[1;32m      8\u001b[0m \u001b[0;32mimport\u001b[0m \u001b[0mmatplotlib\u001b[0m\u001b[0;34m.\u001b[0m\u001b[0mpyplot\u001b[0m \u001b[0;32mas\u001b[0m \u001b[0mplt\u001b[0m\u001b[0;34m\u001b[0m\u001b[0;34m\u001b[0m\u001b[0m\n\u001b[1;32m      9\u001b[0m \u001b[0;34m\u001b[0m\u001b[0m\n\u001b[0;32m---> 10\u001b[0;31m \u001b[0mfreesurfer_folder\u001b[0m\u001b[0;34m:\u001b[0m \u001b[0mLiteral\u001b[0m\u001b[0;34m[\u001b[0m\u001b[0;34m'../data/raw/FREESURFER/'\u001b[0m\u001b[0;34m]\u001b[0m \u001b[0;34m=\u001b[0m \u001b[0;34m\"../data/raw/FREESURFER/\"\u001b[0m\u001b[0;34m\u001b[0m\u001b[0;34m\u001b[0m\u001b[0m\n\u001b[0m",
      "\u001b[0;31mNameError\u001b[0m: name 'Literal' is not defined"
     ]
    }
   ],
   "source": [
    "import nibabel as nib\n",
    "from glob import glob\n",
    "from tqdm.notebook import tqdm\n",
    "import os\n",
    "import pandas as pd\n",
    "from p_tqdm import p_map\n",
    "from nibabel import processing\n",
    "import matplotlib.pyplot as plt\n",
    "\n",
    "freesurfer_folder: Literal['../data/raw/FREESURFER/'] = \"../data/raw/FREESURFER/\""
   ]
  },
  {
   "cell_type": "markdown",
   "metadata": {},
   "source": [
    "We downloaded the MRI and Freesurfer files.\n",
    "For each MRI session we select the T1w (if there are more \"run\" in the same session we select the first),\n",
    "the MR scan (and the corresponding brain mask)"
   ]
  },
  {
   "cell_type": "code",
   "execution_count": null,
   "metadata": {
    "collapsed": false
   },
   "outputs": [
    {
     "name": "stdout",
     "output_type": "stream",
     "text": [
      "Found 0 brainmask\n"
     ]
    }
   ],
   "source": [
    "brainmask_list = glob(freesurfer_folder+\"*/*/brainmask.mgz\", recursive=True)\n",
    "print(f\"Found {len(brainmask_list)} brainmask\")"
   ]
  },
  {
   "cell_type": "code",
   "execution_count": null,
   "metadata": {
    "collapsed": false
   },
   "outputs": [
    {
     "ename": "IndexError",
     "evalue": "list index out of range",
     "output_type": "error",
     "traceback": [
      "\u001b[0;31m---------------------------------------------------------------------------\u001b[0m",
      "\u001b[0;31mIndexError\u001b[0m                                Traceback (most recent call last)",
      "\u001b[0;32m/var/folders/r5/7br76ph52bd61jg9yfqjy_8c0000gn/T/ipykernel_39848/476244391.py\u001b[0m in \u001b[0;36m<cell line: 26>\u001b[0;34m()\u001b[0m\n\u001b[1;32m     24\u001b[0m     \u001b[0;32mreturn\u001b[0m \u001b[0mresult\u001b[0m\u001b[0;34m\u001b[0m\u001b[0;34m\u001b[0m\u001b[0m\n\u001b[1;32m     25\u001b[0m \u001b[0;34m\u001b[0m\u001b[0m\n\u001b[0;32m---> 26\u001b[0;31m \u001b[0mpd\u001b[0m\u001b[0;34m.\u001b[0m\u001b[0mDataFrame\u001b[0m\u001b[0;34m(\u001b[0m\u001b[0;34m[\u001b[0m\u001b[0mget_info\u001b[0m\u001b[0;34m(\u001b[0m\u001b[0mbrainmask_list\u001b[0m\u001b[0;34m[\u001b[0m\u001b[0;36m0\u001b[0m\u001b[0;34m]\u001b[0m\u001b[0;34m)\u001b[0m\u001b[0;34m,\u001b[0m\u001b[0mget_info\u001b[0m\u001b[0;34m(\u001b[0m\u001b[0mbrainmask_list\u001b[0m\u001b[0;34m[\u001b[0m\u001b[0;36m1\u001b[0m\u001b[0;34m]\u001b[0m\u001b[0;34m)\u001b[0m\u001b[0;34m]\u001b[0m\u001b[0;34m)\u001b[0m\u001b[0;34m\u001b[0m\u001b[0;34m\u001b[0m\u001b[0m\n\u001b[0m",
      "\u001b[0;31mIndexError\u001b[0m: list index out of range"
     ]
    }
   ],
   "source": [
    "\n",
    "def get_info(file):\n",
    "    result = dict()\n",
    "    scan = nib.load(file)\n",
    "    result['file_path'] = file\n",
    "    result[\"src_orient\"] = ''.join(nib.aff2axcodes(scan.affine))\n",
    "    for i, v in enumerate(scan.header.get_data_shape()):\n",
    "        result[f\"src_shape_{i}\"] = v\n",
    "    for i, v in enumerate(scan.header.get_zooms()):\n",
    "        result[f\"src_res_{i}\"] = v\n",
    "    for i, v in enumerate(x.max()-x.min() for x in scan.get_fdata().nonzero()):\n",
    "        result[f\"src_brain_{i}\"] = v\n",
    "    result['srcVolume'] = scan.get_fdata().count_nonzero()\n",
    "    scan = processing.conform(scan, voxel_size=(1.0,1.0,1.0), orientation='LPS')\n",
    "\n",
    "    result[\"dst_orient\"] = ''.join(nib.aff2axcodes(scan.affine))\n",
    "    for i, v in enumerate(scan.header.get_data_shape()):\n",
    "        result[f\"dst_shape_{i}\"] = v\n",
    "    for i, v in enumerate(scan.header.get_zooms()):\n",
    "        result[f\"dst_res_{i}\"] = v\n",
    "    for i, v in enumerate(x.max()-x.min() for x in scan.get_fdata().nonzero()):\n",
    "        result[f\"dst_brain_{i}\"] = v\n",
    "    return result\n",
    "\n",
    "pd.DataFrame([get_info(brainmask_list[0]),get_info(brainmask_list[1])])"
   ]
  },
  {
   "cell_type": "code",
   "execution_count": null,
   "metadata": {
    "collapsed": false
   },
   "outputs": [],
   "source": [
    "try:\n",
    "    mask_data = pd.read_csv(\"../data/interim/maskdata.csv\")\n",
    "    print(\"Data of brain masks already exists :)\")\n",
    "except FileNotFoundError:\n",
    "    print(\"No cached brain mask data i'm going to create one :(\")\n",
    "    temp = p_map(get_info, brainmask_list, desc=\"Analyzin brain masks\")\n",
    "    mask_data = pd.DataFrame(temp)\n",
    "    mask_data.to_csv(\"../data/interim/maskdata.csv\")"
   ]
  },
  {
   "cell_type": "code",
   "execution_count": null,
   "metadata": {
    "collapsed": false
   },
   "outputs": [],
   "source": [
    "mask_data[[\"dst_brain_0\", \"dst_brain_1\",\"dst_brain_2\"]].describe()"
   ]
  },
  {
   "cell_type": "code",
   "execution_count": null,
   "metadata": {
    "collapsed": false
   },
   "outputs": [],
   "source": [
    "mask_data.sort_values(\"dst_brain_1\", ascending=False)"
   ]
  },
  {
   "cell_type": "code",
   "execution_count": null,
   "metadata": {
    "collapsed": false
   },
   "outputs": [],
   "source": [
    "data = processing.conform(nib.load(\"../data/raw/FREESURFER/OAS30244_MR_d0104/mri/brainmask.mgz\"), voxel_size=(1.0,1.0,1.0), orientation='LIA').get_fdata()\n",
    "\n",
    "plt.imshow(data[:,150,...])"
   ]
  },
  {
   "cell_type": "markdown",
   "metadata": {},
   "source": [
    "The brain mask, available in the freesurfer files, is binarized with a zero threshold, and a morphological closing is performed on the mask (to remove possible gaps within the volume). Finally, by point wise multiplication, we extract the masked volume that represent our ROI."
   ]
  }
 ],
 "metadata": {
  "kernelspec": {
   "display_name": "Python 3.10.8 ('3dConvAD-yiez')",
   "language": "python",
   "name": "python3"
  },
  "language_info": {
   "codemirror_mode": {
    "name": "ipython",
    "version": 3
   },
   "file_extension": ".py",
   "mimetype": "text/x-python",
   "name": "python",
   "nbconvert_exporter": "python",
   "pygments_lexer": "ipython3",
   "version": "3.10.8"
  },
  "vscode": {
   "interpreter": {
    "hash": "8ece38b99eb50751c36adc810e79e2328c88c56cdb30d9f6e07fac898bf85074"
   }
  }
 },
 "nbformat": 4,
 "nbformat_minor": 0
}
