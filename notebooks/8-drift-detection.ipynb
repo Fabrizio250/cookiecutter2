{
 "cells": [
  {
   "cell_type": "markdown",
   "source": [
    "# Data drift detection with alibi detect"
   ],
   "metadata": {
    "collapsed": false
   }
  },
  {
   "cell_type": "code",
   "execution_count": 1,
   "outputs": [],
   "source": [
    "from alibi_detect.cd import MMDDrift\n",
    "import numpy as np\n",
    "from numpy.random import choice"
   ],
   "metadata": {
    "collapsed": false
   }
  },
  {
   "cell_type": "markdown",
   "source": [
    "First we load the data and shows the shape of the arrays"
   ],
   "metadata": {
    "collapsed": false
   }
  },
  {
   "cell_type": "code",
   "execution_count": 2,
   "outputs": [
    {
     "name": "stdout",
     "output_type": "stream",
     "text": [
      "Load data\n",
      "x_ref, with shape: (2092, 9216)\n",
      "x_drift, with shape: (2092, 9216)\n"
     ]
    }
   ],
   "source": [
    "print(\"Load data\")\n",
    "data = np.load(\"/data/drift_test.npz\")\n",
    "for k in data.keys():\n",
    "    print(f\"{k}, with shape: {data[k].shape}\")"
   ],
   "metadata": {
    "collapsed": false
   }
  },
  {
   "cell_type": "markdown",
   "source": [
    "```x_ref``` represent the reference feature set, (i.e. the feature extracted from train set), while ```x_drift``` is the set of feature generated from the source images \"dirty\" with random gaussian noise.\n",
    "\n",
    "We instantiate a [Maximum Mean Discrepancy drift detector](https://docs.seldon.io/projects/alibi-detect/en/stable/cd/methods/mmddrift.html) (MDD) provided by alibi detect, in short is a multivariate 2 sample testing, that actually fits our needs. The drift detector is initailized with ```x_ref``` and with a ```p_value``` of $0.05$."
   ],
   "metadata": {
    "collapsed": false
   }
  },
  {
   "cell_type": "code",
   "execution_count": 3,
   "outputs": [
    {
     "name": "stderr",
     "output_type": "stream",
     "text": [
      "Requested device not recognised, fall back on CPU.\n"
     ]
    }
   ],
   "source": [
    "dd = MMDDrift(x_ref=data[\"x_ref\"], x_ref_preprocessed=False,p_val=.05, backend='pytorch', device='CPU')"
   ],
   "metadata": {
    "collapsed": false
   }
  },
  {
   "cell_type": "markdown",
   "source": [
    "For testing purpose we firstly check if there is no drift if we use a subset reference data, so we draw a random sample from ```_x_ref``` and we use that for the prediction of data drift. We espect that no drift is detected"
   ],
   "metadata": {
    "collapsed": false
   }
  },
  {
   "cell_type": "code",
   "execution_count": 4,
   "outputs": [
    {
     "data": {
      "text/plain": "{'data': {'is_drift': 0,\n  'distance': -0.0007553766636618775,\n  'p_val': 1.0,\n  'threshold': 0.05,\n  'distance_threshold': array(0.00123531, dtype=float32)},\n 'meta': {'name': 'MMDDriftTorch',\n  'online': False,\n  'data_type': None,\n  'version': '0.10.4',\n  'detector_type': 'drift',\n  'backend': 'pytorch'}}"
     },
     "execution_count": 4,
     "metadata": {},
     "output_type": "execute_result"
    }
   ],
   "source": [
    "sample_from_xref = data[\"x_ref\"][choice(np.arange(2092), size=150)]\n",
    "dd.predict(x=sample_from_xref)"
   ],
   "metadata": {
    "collapsed": false
   }
  },
  {
   "cell_type": "markdown",
   "source": [
    "As expected the attribute ```is_drift``` is equal to 0, hence no drift has been detected. Now for the next test we use the \"corrupted\" features and we expect that a drift is detected. A subset of the drifted data has been considered in order to reduce computational time."
   ],
   "metadata": {
    "collapsed": false
   }
  },
  {
   "cell_type": "code",
   "execution_count": 5,
   "outputs": [
    {
     "data": {
      "text/plain": "{'data': {'is_drift': 1,\n  'distance': 0.04072630898517504,\n  'p_val': 0.0,\n  'threshold': 0.05,\n  'distance_threshold': array(0.00120294, dtype=float32)},\n 'meta': {'name': 'MMDDriftTorch',\n  'online': False,\n  'data_type': None,\n  'version': '0.10.4',\n  'detector_type': 'drift',\n  'backend': 'pytorch'}}"
     },
     "execution_count": 5,
     "metadata": {},
     "output_type": "execute_result"
    }
   ],
   "source": [
    "sample_from_drift = data[\"x_drift\"][choice(np.arange(2092), size=150)]\n",
    "dd.predict(x=sample_from_drift)"
   ],
   "metadata": {
    "collapsed": false
   }
  },
  {
   "cell_type": "markdown",
   "source": [
    " As expected a data drift has been detected on the drifted data. This approach with the \"online\" flavor will be used in production."
   ],
   "metadata": {
    "collapsed": false
   }
  }
 ],
 "metadata": {
  "kernelspec": {
   "display_name": "Python 3",
   "language": "python",
   "name": "python3"
  },
  "language_info": {
   "codemirror_mode": {
    "name": "ipython",
    "version": 2
   },
   "file_extension": ".py",
   "mimetype": "text/x-python",
   "name": "python",
   "nbconvert_exporter": "python",
   "pygments_lexer": "ipython2",
   "version": "2.7.6"
  }
 },
 "nbformat": 4,
 "nbformat_minor": 0
}
